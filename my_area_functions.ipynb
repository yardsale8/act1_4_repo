{
  "nbformat": 4,
  "nbformat_minor": 0,
  "metadata": {
    "colab": {
      "provenance": []
    },
    "kernelspec": {
      "name": "python3",
      "display_name": "Python 3"
    },
    "language_info": {
      "name": "python"
    }
  },
  "cells": [
    {
      "cell_type": "code",
      "execution_count": 6,
      "metadata": {
        "id": "X9ZSWyYRKzp8"
      },
      "outputs": [],
      "source": [
        "triangle_area = lambda b, h: ..."
      ]
    },
    {
      "cell_type": "code",
      "source": [
        "triangle_area = lambda b, h: 0.5*b*h"
      ],
      "metadata": {
        "id": "UJ781--MMiR6"
      },
      "execution_count": 8,
      "outputs": []
    },
    {
      "cell_type": "code",
      "source": [
        "def triangle_area (b, h):\n",
        "  \"\"\" Compute the area of a right triangle.\n",
        "\n",
        "  Args.\n",
        "      b - the base length of the triangle.\n",
        "      h - the height of the triangle.\n",
        "\n",
        "  Returns.  The area of the triangle (a number)\n",
        "  \"\"\"\n",
        "  area = 0.5*b*h\n",
        "  return area"
      ],
      "metadata": {
        "id": "hPFnmZebdAjl"
      },
      "execution_count": 12,
      "outputs": []
    },
    {
      "cell_type": "code",
      "source": [
        "def test_triangle_area():\n",
        "  assert triangle_area(0, 1) == 0\n",
        "  assert triangle_area(1, 0) == 0\n",
        "  assert triangle_area(4, 1) == 2\n",
        "  assert triangle_area(1, 4) == 2\n",
        "  assert triangle_area(4, 2) == 4\n",
        "  assert triangle_area(2, 4) == 4\n",
        "  assert triangle_area(4.5, 2.4) == 0.5*4.5*2.4\n",
        "test_triangle_area()"
      ],
      "metadata": {
        "id": "GSeN8Ht3K0_1"
      },
      "execution_count": 13,
      "outputs": []
    }
  ]
}